{
 "cells": [
  {
   "cell_type": "code",
   "execution_count": 53,
   "metadata": {},
   "outputs": [],
   "source": [
    "import json\n",
    "from collections import defaultdict"
   ]
  },
  {
   "cell_type": "code",
   "execution_count": 54,
   "metadata": {},
   "outputs": [],
   "source": [
    "def evaluate(pred_path, ground_truth_path):\n",
    "    with open(pred_path, \"r\") as file:\n",
    "        result_json = json.load(file)\n",
    "\n",
    "    result_json.pop(\"version\", None)\n",
    "    result_json.pop(\"metric\", None)\n",
    "\n",
    "    with open(ground_truth_path, \"r\") as file:\n",
    "        gt_file = json.load(file)\n",
    "\n",
    "    gt = defaultdict(str)\n",
    "    for pair in gt_file:\n",
    "        gt[pair[\"pairid\"]] = pair[\"target_hard\"]\n",
    "\n",
    "    metrics = {}\n",
    "    for k in [1, 5, 10, 20, 50]:\n",
    "        correct = 0\n",
    "        for pairid, preds in result_json.items():\n",
    "            ans = gt[int(pairid)]\n",
    "            if ans in preds[:k]:\n",
    "                correct += 1\n",
    "        recall_score = correct / len(result_json)\n",
    "\n",
    "        metrics[f\"Recall@{k}\"] = recall_score\n",
    "\n",
    "    return metrics"
   ]
  },
  {
   "cell_type": "code",
   "execution_count": 61,
   "metadata": {},
   "outputs": [],
   "source": [
    "pred_path = \"results\\cirr_val_result_20240131203447.json\"\n",
    "gt_path = \"data\\CIRR\\captions\\cap.rc2.val.json\""
   ]
  },
  {
   "cell_type": "code",
   "execution_count": 62,
   "metadata": {},
   "outputs": [
    {
     "name": "stdout",
     "output_type": "stream",
     "text": [
      "__RECALL ON VAL SET__\n",
      "Recall@1: 0.1521\n",
      "Recall@5: 0.4453\n",
      "Recall@10: 0.5810\n",
      "Recall@20: 0.7039\n",
      "Recall@50: 0.8156\n"
     ]
    }
   ],
   "source": [
    "print(\"__RECALL ON VAL SET__\")\n",
    "\n",
    "metrics = evaluate(pred_path, gt_path)\n",
    "\n",
    "for k, v in metrics.items():\n",
    "    print(f\"{k}: {v:.4f}\")"
   ]
  },
  {
   "cell_type": "code",
   "execution_count": 63,
   "metadata": {},
   "outputs": [],
   "source": [
    "pred_path = \"results\\cirr_train_result_20240201022610.json\"\n",
    "gt_path = \"data\\CIRR\\captions\\cap.rc2.train.json\""
   ]
  },
  {
   "cell_type": "code",
   "execution_count": 64,
   "metadata": {},
   "outputs": [
    {
     "name": "stdout",
     "output_type": "stream",
     "text": [
      "__RECALL ON TRAIN SET__\n",
      "Recall@1: 0.0756\n",
      "Recall@5: 0.2550\n",
      "Recall@10: 0.3596\n",
      "Recall@20: 0.4795\n",
      "Recall@50: 0.6533\n"
     ]
    }
   ],
   "source": [
    "print(\"__RECALL ON TRAIN SET__\")\n",
    "\n",
    "metrics = evaluate(pred_path, gt_path)\n",
    "\n",
    "for k, v in metrics.items():\n",
    "    print(f\"{k}: {v:.4f}\")"
   ]
  },
  {
   "cell_type": "code",
   "execution_count": null,
   "metadata": {},
   "outputs": [],
   "source": []
  }
 ],
 "metadata": {
  "kernelspec": {
   "display_name": "p2w",
   "language": "python",
   "name": "python3"
  },
  "language_info": {
   "codemirror_mode": {
    "name": "ipython",
    "version": 3
   },
   "file_extension": ".py",
   "mimetype": "text/x-python",
   "name": "python",
   "nbconvert_exporter": "python",
   "pygments_lexer": "ipython3",
   "version": "3.11.6"
  }
 },
 "nbformat": 4,
 "nbformat_minor": 2
}
